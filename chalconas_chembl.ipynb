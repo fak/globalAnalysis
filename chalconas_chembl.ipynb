{
  "nbformat": 4,
  "nbformat_minor": 0,
  "metadata": {
    "colab": {
      "provenance": [],
      "toc_visible": true,
      "authorship_tag": "ABX9TyOdIPtnMe3vqXXS4gUDDp2a",
      "include_colab_link": true
    },
    "kernelspec": {
      "name": "python3",
      "display_name": "Python 3"
    },
    "language_info": {
      "name": "python"
    }
  },
  "cells": [
    {
      "cell_type": "markdown",
      "metadata": {
        "id": "view-in-github",
        "colab_type": "text"
      },
      "source": [
        "<a href=\"https://colab.research.google.com/github/fak/globalAnalysis/blob/master/chalconas_chembl.ipynb\" target=\"_parent\"><img src=\"https://colab.research.google.com/assets/colab-badge.svg\" alt=\"Open In Colab\"/></a>"
      ]
    },
    {
      "cell_type": "code",
      "execution_count": null,
      "metadata": {
        "colab": {
          "base_uri": "https://localhost:8080/"
        },
        "id": "N9GSHLCbcbDx",
        "outputId": "dfda04bd-0b5c-4c08-dc7b-5d065f31551a"
      },
      "outputs": [
        {
          "output_type": "stream",
          "name": "stdout",
          "text": [
            "Requirement already satisfied: chembl_downloader in /usr/local/lib/python3.10/dist-packages (0.4.2)\n",
            "Requirement already satisfied: click in /usr/local/lib/python3.10/dist-packages (from chembl_downloader) (8.1.6)\n",
            "Requirement already satisfied: more-click in /usr/local/lib/python3.10/dist-packages (from chembl_downloader) (0.1.2)\n",
            "Requirement already satisfied: pystow in /usr/local/lib/python3.10/dist-packages (from chembl_downloader) (0.5.0)\n",
            "Requirement already satisfied: tqdm in /usr/local/lib/python3.10/dist-packages (from chembl_downloader) (4.66.0)\n",
            "Requirement already satisfied: requests in /usr/local/lib/python3.10/dist-packages (from pystow->chembl_downloader) (2.31.0)\n",
            "Requirement already satisfied: charset-normalizer<4,>=2 in /usr/local/lib/python3.10/dist-packages (from requests->pystow->chembl_downloader) (3.2.0)\n",
            "Requirement already satisfied: idna<4,>=2.5 in /usr/local/lib/python3.10/dist-packages (from requests->pystow->chembl_downloader) (3.4)\n",
            "Requirement already satisfied: urllib3<3,>=1.21.1 in /usr/local/lib/python3.10/dist-packages (from requests->pystow->chembl_downloader) (2.0.4)\n",
            "Requirement already satisfied: certifi>=2017.4.17 in /usr/local/lib/python3.10/dist-packages (from requests->pystow->chembl_downloader) (2023.7.22)\n",
            "Requirement already satisfied: rdkit-pypi in /usr/local/lib/python3.10/dist-packages (2022.9.5)\n",
            "Requirement already satisfied: numpy in /usr/local/lib/python3.10/dist-packages (from rdkit-pypi) (1.23.5)\n",
            "Requirement already satisfied: Pillow in /usr/local/lib/python3.10/dist-packages (from rdkit-pypi) (9.4.0)\n",
            "Requirement already satisfied: chembl_webresource_client in /usr/local/lib/python3.10/dist-packages (0.10.8)\n",
            "Requirement already satisfied: urllib3 in /usr/local/lib/python3.10/dist-packages (from chembl_webresource_client) (2.0.4)\n",
            "Requirement already satisfied: requests>=2.18.4 in /usr/local/lib/python3.10/dist-packages (from chembl_webresource_client) (2.31.0)\n",
            "Requirement already satisfied: requests-cache~=0.7.0 in /usr/local/lib/python3.10/dist-packages (from chembl_webresource_client) (0.7.5)\n",
            "Requirement already satisfied: easydict in /usr/local/lib/python3.10/dist-packages (from chembl_webresource_client) (1.10)\n",
            "Requirement already satisfied: charset-normalizer<4,>=2 in /usr/local/lib/python3.10/dist-packages (from requests>=2.18.4->chembl_webresource_client) (3.2.0)\n",
            "Requirement already satisfied: idna<4,>=2.5 in /usr/local/lib/python3.10/dist-packages (from requests>=2.18.4->chembl_webresource_client) (3.4)\n",
            "Requirement already satisfied: certifi>=2017.4.17 in /usr/local/lib/python3.10/dist-packages (from requests>=2.18.4->chembl_webresource_client) (2023.7.22)\n",
            "Requirement already satisfied: attrs<22.0,>=21.2 in /usr/local/lib/python3.10/dist-packages (from requests-cache~=0.7.0->chembl_webresource_client) (21.4.0)\n",
            "Requirement already satisfied: itsdangerous>=2.0.1 in /usr/local/lib/python3.10/dist-packages (from requests-cache~=0.7.0->chembl_webresource_client) (2.1.2)\n",
            "Requirement already satisfied: pyyaml>=5.4 in /usr/local/lib/python3.10/dist-packages (from requests-cache~=0.7.0->chembl_webresource_client) (6.0.1)\n",
            "Requirement already satisfied: url-normalize<2.0,>=1.4 in /usr/local/lib/python3.10/dist-packages (from requests-cache~=0.7.0->chembl_webresource_client) (1.4.3)\n",
            "Requirement already satisfied: six in /usr/local/lib/python3.10/dist-packages (from url-normalize<2.0,>=1.4->requests-cache~=0.7.0->chembl_webresource_client) (1.16.0)\n",
            "Requirement already satisfied: scikit-learn in /usr/local/lib/python3.10/dist-packages (1.2.2)\n",
            "Requirement already satisfied: numpy>=1.17.3 in /usr/local/lib/python3.10/dist-packages (from scikit-learn) (1.23.5)\n",
            "Requirement already satisfied: scipy>=1.3.2 in /usr/local/lib/python3.10/dist-packages (from scikit-learn) (1.10.1)\n",
            "Requirement already satisfied: joblib>=1.1.1 in /usr/local/lib/python3.10/dist-packages (from scikit-learn) (1.3.2)\n",
            "Requirement already satisfied: threadpoolctl>=2.0.0 in /usr/local/lib/python3.10/dist-packages (from scikit-learn) (3.2.0)\n",
            "Requirement already satisfied: requests in /usr/local/lib/python3.10/dist-packages (2.31.0)\n",
            "Requirement already satisfied: charset-normalizer<4,>=2 in /usr/local/lib/python3.10/dist-packages (from requests) (3.2.0)\n",
            "Requirement already satisfied: idna<4,>=2.5 in /usr/local/lib/python3.10/dist-packages (from requests) (3.4)\n",
            "Requirement already satisfied: urllib3<3,>=1.21.1 in /usr/local/lib/python3.10/dist-packages (from requests) (2.0.4)\n",
            "Requirement already satisfied: certifi>=2017.4.17 in /usr/local/lib/python3.10/dist-packages (from requests) (2023.7.22)\n"
          ]
        }
      ],
      "source": [
        "!pip install chembl_downloader\n",
        "!pip install rdkit-pypi\n",
        "!pip install chembl_webresource_client\n",
        "!pip install scikit-learn\n",
        "!pip install requests\n",
        "import chembl_downloader\n",
        "import chembl_webresource_client\n",
        "import requests\n",
        "from concurrent.futures import ThreadPoolExecutor\n",
        "from chembl_webresource_client.new_client import new_client\n",
        "from rdkit import Chem\n",
        "from sklearn.model_selection import train_test_split\n",
        "from sklearn.preprocessing import StandardScaler\n",
        "from sklearn.cross_decomposition import PLSRegression\n",
        "from sklearn.metrics import mean_squared_error"
      ]
    },
    {
      "cell_type": "code",
      "source": [
        "# Get a reference to the assay resource\n",
        "assay = new_client.assay\n",
        "\n",
        "# Define a query to search for assays related to leishmaniasis\n",
        "query = assay.filter(description__icontains='leishmania')\n",
        "\n",
        "# Execute the query and retrieve the results\n",
        "assays = query.all()\n",
        "\n",
        "# Get a list of ChEMBL IDs for the assays\n",
        "assay_chembl_ids = [a['assay_chembl_id'] for a in assays]\n",
        "\n",
        "# Get a reference to the substructure resource\n",
        "substructure = new_client.substructure\n",
        "\n",
        "# Define a SMILES string for chalcones\n",
        "smiles = 'C=CC(=O)c1ccccc1'\n",
        "\n",
        "# Execute a substructure search using the SMILES string\n",
        "molecules = substructure.filter(smiles=smiles)\n",
        "\n",
        "# Get a reference to the activity resource\n",
        "activity = new_client.activity\n",
        "\n",
        "# Create an empty list to store the data\n",
        "data = []\n",
        "\n",
        "# Loop over the molecules\n",
        "for molecule in molecules:\n",
        "    # Get the ChEMBL ID of the molecule\n",
        "    molecule_chembl_id = molecule['molecule_chembl_id']\n",
        "\n",
        "    # Define a query to search for activities related to leishmaniasis for this molecule\n",
        "    query = activity.filter(molecule_chembl_id=molecule_chembl_id, assay_chembl_id__in=assay_chembl_ids)\n",
        "\n",
        "    # Execute the query and retrieve the results\n",
        "    results = query.all()\n",
        "\n",
        "    # Loop over the results\n",
        "    for result in results:\n",
        "        # Extract the relevant data from the result\n",
        "        assay_description = result['assay_description']\n",
        "        standard_value = result['standard_value']\n",
        "\n",
        "        # Add the data to the list\n",
        "        data.append({'molecule_chembl_id': molecule_chembl_id, 'assay_description': assay_description, 'standard_value': standard_value})\n",
        "\n",
        "# Create a DataFrame from the data\n",
        "chalcone_leishmaniasis_df = pd.DataFrame(data)\n",
        "\n",
        "# Print the DataFrame\n",
        "#print(chalcone_leishmaniasis_df)"
      ],
      "metadata": {
        "id": "JsGsRS_qijEk",
        "colab": {
          "base_uri": "https://localhost:8080/"
        },
        "outputId": "3b521f25-f313-4b4d-bdb0-314cf2842dbb"
      },
      "execution_count": 35,
      "outputs": [
        {
          "output_type": "stream",
          "name": "stdout",
          "text": [
            "Empty DataFrame\n",
            "Columns: []\n",
            "Index: []\n"
          ]
        }
      ]
    },
    {
      "cell_type": "markdown",
      "source": [
        "# Nova seção"
      ],
      "metadata": {
        "id": "IbbO6Lz-6awj"
      }
    }
  ]
}